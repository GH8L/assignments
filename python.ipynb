{
 "cells": [
  {
   "cell_type": "code",
   "execution_count": 5,
   "source": [
    "#1 \r\n",
    "#Countdown \r\n",
    "# Create a function that accepts a number as an input. Return a new list that counts down by one,\r\n",
    "#  from the number (as the 0th element) down to 0 (as the last element).\r\n",
    "#Example: countdown(5) should return the list: [5,4,3,2,1,0]\r\n",
    "\r\n",
    "def  countDown(x):\r\n",
    "    Listno = []\r\n",
    "    for i in range(x, -1, -1):\r\n",
    "        Listno.append(i)\r\n",
    "    return Listno\r\n",
    "print(countDown(7)) #count down of 7\r\n"
   ],
   "outputs": [
    {
     "output_type": "stream",
     "name": "stdout",
     "text": [
      "[7, 6, 5, 4, 3, 2, 1, 0]\n"
     ]
    }
   ],
   "metadata": {}
  },
  {
   "cell_type": "code",
   "execution_count": 7,
   "source": [
    "#2\r\n",
    "#Print and Return - Create a function that will receive a list with two numbers. Print the first value and return the second.\r\n",
    "#Example: print_and_return([1,2]) should print 1 and return 2\r\n",
    "def print_and_return(list):\r\n",
    "    print(list[0])\r\n",
    "    return list[1]\r\n",
    "print (print_and_return([1,2]))"
   ],
   "outputs": [
    {
     "output_type": "stream",
     "name": "stdout",
     "text": [
      "1\n",
      "2\n"
     ]
    }
   ],
   "metadata": {}
  },
  {
   "cell_type": "code",
   "execution_count": 13,
   "source": [
    "#3\r\n",
    "#Create a function that accepts a list and returns the sum of the first value in the list plus the list's length.\r\n",
    "#Example: first_plus_length([1,2,3,4,5]) should return 6 (first value: 1 + length: 5)\r\n",
    "\r\n",
    "def first_plus_length(list):\r\n",
    "    print(list[0])\r\n",
    "    return len(list)\r\n",
    "print(first_plus_length([1,2,3,4,5]))"
   ],
   "outputs": [
    {
     "output_type": "stream",
     "name": "stdout",
     "text": [
      "1\n",
      "5\n"
     ]
    }
   ],
   "metadata": {}
  },
  {
   "cell_type": "code",
   "execution_count": 11,
   "source": [
    "#4\r\n",
    "# This Length, That Value - Write a function that accepts two integers as parameters: size and value.\r\n",
    "#  The function should create and return a list whose length is equal to the given size,\r\n",
    "#  and whose values are all the given value.\r\n",
    "#Example: length_and_value(4,7) should return [7,7,7,7]\r\n",
    "#Example: length_and_value(6,2) should return [2,2,2,2,2,2]\r\n",
    "\r\n",
    "def length_and_value(size,value):\r\n",
    "    newList = []\r\n",
    "    for i in range(size):\r\n",
    "        newList.append(value)\r\n",
    "    return newList\r\n",
    "print(length_and_value(4,7))\r\n",
    "print(length_and_value(6,2))\r\n",
    "\r\n",
    "\r\n"
   ],
   "outputs": [
    {
     "output_type": "stream",
     "name": "stdout",
     "text": [
      "[7, 7, 7, 7]\n",
      "[2, 2, 2, 2, 2, 2]\n"
     ]
    }
   ],
   "metadata": {}
  },
  {
   "cell_type": "code",
   "execution_count": 19,
   "source": [
    "#5\r\n",
    "# Values Greater than Second (Optional) - Write a function that accepts a list and creates a new list containing only the values from the original list\r\n",
    "#  that are greater than its 2nd value. Print how many values this is and then return the new list. If the list has less than 2 elements,\r\n",
    "#  have the function return False.\r\n",
    "#Example: values_greater_than_second([5,2,3,2,1,4]) should print 3 and return [5,3,4]\r\n",
    "#Example: values_greater_than_second([3]) should return False\r\n",
    "\r\n",
    "\r\n",
    "def values_greater_than_second(list):\r\n",
    "    if len(list)<2:\r\n",
    "        return False\r\n",
    "    newList = []\r\n",
    "    # greaterThan = list[1]\r\n",
    "    for val in list:\r\n",
    "        if val>list[1]:\r\n",
    "            newList.append(val)\r\n",
    "    print(len(newList))    \r\n",
    "    return newList\r\n",
    "print(values_greater_than_second([5,2,3,2,1,4]))\r\n",
    "print(values_greater_than_second([0,4]))\r\n",
    "print(values_greater_than_second([1,30,2,3,909,100,0,1]))\r\n",
    "print(values_greater_than_second([1]))\r\n",
    "print(values_greater_than_second([]))\r\n"
   ],
   "outputs": [
    {
     "output_type": "stream",
     "name": "stdout",
     "text": [
      "3\n",
      "[5, 3, 4]\n",
      "False\n",
      "2\n",
      "[909, 100]\n",
      "False\n",
      "False\n"
     ]
    }
   ],
   "metadata": {}
  }
 ],
 "metadata": {
  "orig_nbformat": 4,
  "language_info": {
   "name": "python",
   "version": "3.7.2",
   "mimetype": "text/x-python",
   "codemirror_mode": {
    "name": "ipython",
    "version": 3
   },
   "pygments_lexer": "ipython3",
   "nbconvert_exporter": "python",
   "file_extension": ".py"
  },
  "kernelspec": {
   "name": "python3",
   "display_name": "Python 3.7.2 32-bit"
  },
  "interpreter": {
   "hash": "98119a6683756fb3400540833bb722673ac05b47b3fbc7ff31a2149573307228"
  }
 },
 "nbformat": 4,
 "nbformat_minor": 2
}